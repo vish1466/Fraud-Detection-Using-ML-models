{
 "cells": [
  {
   "cell_type": "code",
   "execution_count": null,
   "id": "9f7af769",
   "metadata": {},
   "outputs": [],
   "source": [
    "import pandas as pd\n",
    "import matplotlib.pyplot as plt\n",
    "import numpy as np\n",
    "import seaborn as sns"
   ]
  },
  {
   "cell_type": "code",
   "execution_count": null,
   "id": "0b3cddee",
   "metadata": {},
   "outputs": [],
   "source": [
    "# import the dataset \n",
    "df = pd.read_csv(r\"C:\\Users\\dhanu\\OneDrive\\Documents\\books academic\\p-1\\datasets\\creditcard.csv\")\n",
    "df.head()"
   ]
  },
  {
   "cell_type": "code",
   "execution_count": null,
   "id": "ca1e8a65",
   "metadata": {},
   "outputs": [],
   "source": [
    "# checking for NULL (empty) values in the dataset\n",
    "\n",
    "df.isnull().sum().to_frame().T"
   ]
  },
  {
   "cell_type": "markdown",
   "id": "5a67aa1a",
   "metadata": {},
   "source": [
    "No NULL or empty values present in the dataset. Free to explore the data."
   ]
  },
  {
   "cell_type": "markdown",
   "id": "25198027",
   "metadata": {},
   "source": [
    "#### Few points to consider before working on the data :\n",
    "Data is already undergone through PCA (principal component analysis) to reduce the dimensionality required to train the model. All the columns are already scaled/standardized except time and amount. Class column is already binarized to 1s and 0s, 1 indicating that it is a fraud transaction and 0 indicating that it is a normal transaction.\n",
    "\n"
   ]
  },
  {
   "cell_type": "code",
   "execution_count": null,
   "id": "fdd9add9",
   "metadata": {},
   "outputs": [],
   "source": [
    "# Let's visualize some data : EDA\n",
    "\n",
    "data_x = [0,1]\n",
    "y_1 = df[df[\"Class\"] == 1]\n",
    "y_0 = df[df[\"Class\"] == 0]\n",
    "data_y = [len(y_0), len(y_1)]\n",
    "\n",
    "plt.figure(figsize=(6,7))\n",
    "wedges, _, __ = plt.pie(data_y, explode = [0,0.1],colors = [\"purple\", \"black\"], labels = data_y,autopct =  '%1.1f%%')\n",
    "custom = [\"Normal cases\", \"Fradulent cases\"]\n",
    "\n",
    "plt.title('Number of Samples in Each Class')\n",
    "plt.legend(wedges, custom, loc = \"upper right\")\n",
    "plt.show()\n",
    "\n",
    "print(f\"Percentage of Fraud Samples: {(len(y_1)/df.shape[0])*100}\")"
   ]
  },
  {
   "cell_type": "markdown",
   "id": "84ba007b",
   "metadata": {},
   "source": [
    "As we can see from this plot, the fraud samples are very low in number (around 0.172%). Directly using this data will cause the model to wrongly classify all fraud cases as normal transactions. Basically, the model will not reach the sensitivity for detecting fraud samples properly."
   ]
  },
  {
   "cell_type": "code",
   "execution_count": null,
   "id": "c412ae36",
   "metadata": {},
   "outputs": [],
   "source": [
    "Fraud = df[df[\"Class\"] == 1]\n",
    "Normal = df[df[\"Class\"] == 0]\n",
    "\n",
    "print(f\"Average Time taken for Fraud cases: {Fraud['Time'].mean()}\")\n",
    "print(f\"Average Time taken for Normal cases: {Normal['Time'].mean()}\\n\")\n",
    "\n",
    "print(f\"Average Amount from Fraud cases: {Fraud['Amount'].mean()}\")\n",
    "print(f\"Average Amount from Normal cases: {Normal['Amount'].mean()}\")\n"
   ]
  },
  {
   "cell_type": "markdown",
   "id": "0fe75613",
   "metadata": {},
   "source": [
    "Time taken for Normal cases is comparatively higher than fraud case. Amount taken in Fraud transactions (on average) is higher. These can be some signs for properly detecting fraud samples.\n"
   ]
  },
  {
   "cell_type": "code",
   "execution_count": null,
   "id": "fb3ead56",
   "metadata": {},
   "outputs": [],
   "source": [
    "# Plotting the distribution of time for transactions for separate classes, to check the concentration of transactions with time\n",
    "\n",
    "class_0 = df.loc[df['Class'] == 0, \"Time\"]\n",
    "class_1 = df.loc[df['Class'] == 1, \"Time\"]\n",
    "\n",
    "plt.figure(figsize=(10, 6))  \n",
    "\n",
    "# plotting density plot for normal transactions\n",
    "sns.kdeplot(class_0, label='Not Fraud', lw = 2,  color='blue', alpha=0.85)\n",
    "\n",
    "# plottting density plot for fradulent transactions \n",
    "sns.kdeplot(class_1, label='Fraud', lw = 2,  color='red', alpha=0.85)\n",
    "\n",
    "plt.title('Credit Card Transactions Time Density Plot')\n",
    "plt.xlabel('Time [s]')\n",
    "plt.ylabel('Density')\n",
    "plt.legend()\n",
    "plt.grid(alpha=0.3) \n",
    "\n",
    "plt.show()\n",
    "\n"
   ]
  },
  {
   "cell_type": "markdown",
   "id": "907d64e4",
   "metadata": {},
   "source": [
    "As we can see from the plot, Normal transactions were fairly distributed among 2 days (because people don't do much transactions at night time). But for Fraud transactions, we can see the concentration/frequency of transactions, regardless of hour of the day, is consistent and continuous. We can't exactly classify all night time transactions as fraud, but we can identify the trend at which Fraud transactions occur. This is an useful insight."
   ]
  },
  {
   "cell_type": "markdown",
   "id": "bf7627c5",
   "metadata": {},
   "source": [
    "Let's do some feature engineering.\n",
    "Using the Time column is pretty confusing, since it is showing time in seconds, which we can convert it into hours, so that we can visualize how many transactions occur per hour, and what percentage are fraud or not. "
   ]
  },
  {
   "cell_type": "code",
   "execution_count": null,
   "id": "7d6d3ad4",
   "metadata": {},
   "outputs": [],
   "source": [
    "# create a new column named \"hour\"\n",
    "df[\"hour\"] = df[\"Time\"].apply(lambda x : np.floor(x/3600))\n",
    "\n",
    "# storing statistical information in a temporary variable\n",
    "tmp = df.groupby([\"hour\", \"Class\"])[\"Amount\"].aggregate([\"min\",\"max\",\"sum\",\"count\",\"mean\",\"median\",\"var\"]).reset_index()  # reset_index to keep it as a Dataframe\n",
    "\n",
    "# change the columns names, but first reintialize it as a DataFrame again\n",
    "temp_df = pd.DataFrame(tmp)\n",
    "temp_df.columns = [\"hour\",\"Class\", \"min\",\"max\",\"Sum\", \"Transactions\", \"Mean\", \"Median\", \"Variance\"]\n",
    "temp_df.head(7)\n",
    "\n"
   ]
  },
  {
   "cell_type": "code",
   "execution_count": null,
   "id": "bb6c65e6",
   "metadata": {},
   "outputs": [],
   "source": [
    "# now let's use this new information to visualize the data to see what the data tells us\n",
    "\n",
    "\n",
    "# plotting total sum of transactions per hour for Normal and Fraud transactions\n",
    "fig, (ax1,ax2) = plt.subplots(ncols = 2, figsize = (18,6))\n",
    "\n",
    "ax1.plot(temp_df.loc[temp_df.Class == 0, \"hour\"], temp_df.loc[temp_df.Class == 0, \"Sum\"], label = \"Normal Transactions\", color = \"darkgreen\")\n",
    "ax1.set_title(\"Total Amount vs Hour (Normal)\")\n",
    "ax1.set_xlabel(\"Hour\")\n",
    "ax1.set_ylabel(\"Total Amount\")\n",
    "ax1.grid(True)\n",
    "\n",
    "ax2.plot(temp_df.loc[temp_df.Class == 1,\"hour\"], temp_df.loc[temp_df.Class == 1, \"Sum\"], label = \"Fraud Transactions\", color = \"darkred\")\n",
    "ax2.set_title(\"Total Amount vs Hour (Fraud)\")\n",
    "ax2.set_xlabel(\"Hour\")\n",
    "ax2.set_ylabel(\"Total Amount\")\n",
    "ax2.grid(True)\n",
    "\n"
   ]
  },
  {
   "cell_type": "markdown",
   "id": "d4f871c3",
   "metadata": {},
   "source": [
    "In this plot, we can observe that, for normal transactions, the overall amount wired is a lot higher compared to transactions due to fraud. Whereas the amount of transactions in Fraud is almost below 5000 (Currency Units). But based on the frequency of the transactions that occur, we can observe a pattern. High number of transactions are only observed during the day time, and we can see a dip in the amount of transactions that occur during night time. In Fraud cases, we cannot find this similar trend, hence distinction is noted.\n"
   ]
  },
  {
   "cell_type": "code",
   "execution_count": null,
   "id": "9ba320f2",
   "metadata": {},
   "outputs": [],
   "source": [
    "# plotting total number of transactions per hour for Normal and Fraud transactions\n",
    "\n",
    "fig, (ax1,ax2) = plt.subplots(ncols = 2, figsize = (18,6))\n",
    "\n",
    "ax1.plot(temp_df.loc[temp_df.Class == 0, \"hour\"], temp_df.loc[temp_df.Class == 0, \"Transactions\"], label = \"Normal Transactions\", color = \"darkgreen\")\n",
    "ax1.set_title(\"Total Number of Transactions vs Hour (Normal)\")\n",
    "ax1.set_xlabel(\"Hour\")\n",
    "ax1.set_ylabel(\"Total Number of Transactions\")\n",
    "ax1.grid(True)\n",
    "\n",
    "ax2.plot(temp_df.loc[temp_df.Class == 1,\"hour\"], temp_df.loc[temp_df.Class == 1, \"Transactions\"], label = \"Fraud Transactions\", color = \"darkred\")\n",
    "ax2.set_title(\"Total Number of Transactions vs Hour (Fraud)\")\n",
    "ax2.set_xlabel(\"Hour\")\n",
    "ax2.set_ylabel(\"Total Number of Transactions\")\n",
    "ax2.grid(True)"
   ]
  },
  {
   "cell_type": "markdown",
   "id": "f2dd94e3",
   "metadata": {},
   "source": [
    "Even if we look at the y-axis of both the plots here, the number of transactions in Normal case is very high (around 6000), but we can also see the range of times that these transactions occur. This doesn't happen for Fraud cases, number of transactions can be comparatively low, because of the unbalanced dataset (only 492 different class samples), but still, the transaction patterns still remain the same."
   ]
  },
  {
   "cell_type": "code",
   "execution_count": null,
   "id": "edada1bb",
   "metadata": {},
   "outputs": [],
   "source": [
    "fig, (ax1,ax2) = plt.subplots(ncols = 2, figsize = (18,6))\n",
    "\n",
    "ax1.plot(temp_df.loc[temp_df.Class == 0, \"hour\"], temp_df.loc[temp_df.Class == 0, \"Mean\"], label = \"Normal Transactions\", color = \"darkgreen\")\n",
    "ax1.set_title(\"Mean vs Hour (Normal)\")\n",
    "ax1.set_xlabel(\"Hour\")\n",
    "ax1.set_ylabel(\"Mean\")\n",
    "ax1.grid(True)\n",
    "\n",
    "ax2.plot(temp_df.loc[temp_df.Class == 1,\"hour\"], temp_df.loc[temp_df.Class == 1, \"Mean\"], label = \"Fraud Transactions\", color = \"darkred\")\n",
    "ax2.set_title(\"Mean vs Hour (Fraud)\")\n",
    "ax2.set_xlabel(\"Hour\")\n",
    "ax2.set_ylabel(\"Mean\")\n",
    "ax2.grid(True)"
   ]
  },
  {
   "cell_type": "markdown",
   "id": "54f2ec28",
   "metadata": {},
   "source": [
    "In this plot also, we can observe the average amount of transactions is higher for Fraud cases compared to Normal cases. And also high variance is observed in Fraud data samples.\n",
    "But we can't blindly assume that high transaction amount is definitely fraud, since there are transaction amounts within normal range also in Fraud case.\n"
   ]
  },
  {
   "cell_type": "code",
   "execution_count": null,
   "id": "a1a414b1",
   "metadata": {},
   "outputs": [],
   "source": [
    "fig, (ax1,ax2) = plt.subplots(ncols = 2, figsize = (18,6))\n",
    "\n",
    "ax1.plot(temp_df.loc[temp_df.Class == 0, \"hour\"], temp_df.loc[temp_df.Class == 0, \"max\"], label = \"Normal Transactions\", color = \"darkgreen\")\n",
    "ax1.set_title(\"max vs Hour (Normal)\")\n",
    "ax1.set_xlabel(\"Hour\")\n",
    "ax1.set_ylabel(\"max\")\n",
    "ax1.grid(True)\n",
    "\n",
    "ax2.plot(temp_df.loc[temp_df.Class == 1,\"hour\"], temp_df.loc[temp_df.Class == 1, \"max\"], label = \"Fraud Transactions\", color = \"darkred\")\n",
    "ax2.set_title(\"max vs Hour (Fraud)\")\n",
    "ax2.set_xlabel(\"Hour\")\n",
    "ax2.set_ylabel(\"max\")\n",
    "ax2.grid(True)"
   ]
  },
  {
   "cell_type": "code",
   "execution_count": null,
   "id": "23ccad82",
   "metadata": {},
   "outputs": [],
   "source": [
    "fig, (ax1,ax2) = plt.subplots(ncols = 2, figsize = (18,6))\n",
    "\n",
    "ax1.plot(temp_df.loc[temp_df.Class == 0, \"hour\"], temp_df.loc[temp_df.Class == 0, \"Median\"], label = \"Normal Transactions\", color = \"darkgreen\")\n",
    "ax1.set_title(\"Median vs Hour (Normal)\")\n",
    "ax1.set_xlabel(\"Hour\")\n",
    "ax1.set_ylabel(\"Median\")\n",
    "ax1.grid(True)\n",
    "\n",
    "ax2.plot(temp_df.loc[temp_df.Class == 1,\"hour\"], temp_df.loc[temp_df.Class == 1, \"Median\"], label = \"Fraud Transactions\", color = \"darkred\")\n",
    "ax2.set_title(\"Median vs Hour (Fraud)\")\n",
    "ax2.set_xlabel(\"Hour\")\n",
    "ax2.set_ylabel(\"Median\")\n",
    "ax2.grid(True)"
   ]
  },
  {
   "cell_type": "markdown",
   "id": "eeb42eb9",
   "metadata": {},
   "source": [
    "This plot reveals one more insight about the transaction types. For Normal transactions, the median is fairly consistent and we can observe a clear range where the median varies. But for Fraud transactions, we can see that the median is mostly close to 0 (minimum), and there is a spike in the median at certain times of hours. But we can also observe some median values which are very low, meaning Fraud transactions won't always occur at a higher amount, but also can occur at low or medium range of transaction amount. \n",
    "\n",
    "This explains that the data from Fraud samples is highly skewed and contains a lot of outliers in the data."
   ]
  },
  {
   "cell_type": "code",
   "execution_count": null,
   "id": "50a58e4d",
   "metadata": {},
   "outputs": [],
   "source": [
    "# let's see the distribution of the data based on mean and variance\n",
    "\n",
    "Fraud_amt = Fraud['Amount']\n",
    "Normal_amt = Normal[\"Amount\"]\n",
    "\n",
    "fig, (ax1, ax2) = plt.subplots(ncols = 2, figsize = (12,6))\n",
    "\n",
    "ax1.boxplot([Normal_amt, Fraud_amt], labels = [\"Normal\", \"Fraud\"], showfliers = True)\n",
    "ax1.set_title(\"Distribution with Outliers\")\n",
    "ax1.set_ylabel(\"Amount\")\n",
    "\n",
    "ax2.boxplot([Normal_amt, Fraud_amt], labels = [\"Normal\", \"Fraud\"], showfliers = False)\n",
    "ax2.set_title(\"Distribution without Outliers\")\n",
    "ax2.set_ylabel(\"Amount\")\n",
    "\n",
    "plt.show()"
   ]
  },
  {
   "cell_type": "code",
   "execution_count": null,
   "id": "8fff98c9",
   "metadata": {},
   "outputs": [],
   "source": [
    "Fraud_amt.describe()"
   ]
  },
  {
   "cell_type": "code",
   "execution_count": null,
   "id": "43e5606b",
   "metadata": {},
   "outputs": [],
   "source": [
    "Normal_amt.describe()"
   ]
  },
  {
   "cell_type": "markdown",
   "id": "f6157b69",
   "metadata": {},
   "source": [
    "The mean, Q1 is larger for normal samples compared to fraud samples, and also the outliers for normal samples are far higher and spread out more, compared to fraud samples where the outliers are not spread out much and the overall range is not very high either.\n",
    "\n"
   ]
  },
  {
   "cell_type": "code",
   "execution_count": null,
   "id": "b77cc41a",
   "metadata": {},
   "outputs": [],
   "source": [
    "import plotly.express as px   # for interactive plots\n",
    "import plotly.io as pio       # for interacting with the plots\n",
    "pio.renderers.default = 'browser'\n",
    "\n",
    "\n",
    "fig = px.scatter(\n",
    "    Fraud, x = 'Time', y = 'Amount',\n",
    "    title = 'Amount of Fraudulent Transactions',\n",
    "    opacity = 0.5, color_discrete_sequence = ['red'],\n",
    "    hover_data = [\"Time\", \"Amount\"]\n",
    ")\n",
    "fig.show()"
   ]
  },
  {
   "cell_type": "code",
   "execution_count": null,
   "id": "95748824",
   "metadata": {},
   "outputs": [],
   "source": [
    "# plotting features that depend on other features and target column, using correlation matrix and heatmap\n",
    "\n",
    "plt.figure(figsize=(14,14))\n",
    "plt.title(\"Correlation of Features (Pearson Method)\", fontsize = 16)\n",
    "\n",
    "corr = df.corr()\n",
    "sns.heatmap(corr, xticklabels=corr.columns, yticklabels=corr.columns, linewidths=0.1, cmap = 'Spectral')\n",
    "plt.show()"
   ]
  },
  {
   "cell_type": "markdown",
   "id": "cbf319a8",
   "metadata": {},
   "source": [
    "Most faetures from V1 to V28 don't have any strong correlation with each other. Columns like time and amount have some features which are directly correlated and some which are inversely correlated.  \n",
    "\n",
    "Amount : direct correlation (V7, V20) ; inverse correlation (V1,V2,V5)  \n",
    "Time : inverse correlation (V3,V11,V15,V25)\n"
   ]
  }
 ],
 "metadata": {
  "kernelspec": {
   "display_name": "Python 3",
   "language": "python",
   "name": "python3"
  },
  "language_info": {
   "codemirror_mode": {
    "name": "ipython",
    "version": 3
   },
   "file_extension": ".py",
   "mimetype": "text/x-python",
   "name": "python",
   "nbconvert_exporter": "python",
   "pygments_lexer": "ipython3",
   "version": "3.10.7"
  }
 },
 "nbformat": 4,
 "nbformat_minor": 5
}
